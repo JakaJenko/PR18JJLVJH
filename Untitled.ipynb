{
 "cells": [
  {
   "cell_type": "markdown",
   "metadata": {},
   "source": [
    "# Projekt - PR"
   ]
  },
  {
   "cell_type": "markdown",
   "metadata": {},
   "source": [
    "## Opis"
   ]
  },
  {
   "cell_type": "markdown",
   "metadata": {},
   "source": [
    "Opis problema: Raziskovali bomo prodajo (oz. registracijo novih vozi). Pri teh podatkih se bomo osredotočili na podatke o motorju vozila; torej o porabi, prostornini, vrsti goriva in izpustih. Iz le-teh bomo pridobili podatke o tem, koliko motroji posatajao učinkovitejši. Prav tako lahko z kombiniranjem teh podatkov z spolom, starostjo in ali je vozilo registrirala pravna oseba ugotovimo, koliko učinkovitost motorja vpliva na nakup vozil za posameznike.\n",
    "\n",
    "Cilji: Spreminjanje motorjev skozi čas. Pridobiti podatke o učinkovitosti motorja Koliko je učinkovitost motorja pomembna za osebe ali podjetja. Napovedati kdaj bodo električni avtomobili dosegli 50% od vseh novih registracij.\n",
    "\n",
    "Vir podatkov:\n",
    "    - https://podatki.gov.si - Prvič registrirana vozila po mesecih\n",
    "    - https://data.europa.eu/euodp\n",
    "\n",
    "Oblka podatkov: Podatki so večinoma v csv obliki. Iz podatkov \"Prvič registrirana vozila po mesecih\" lahko razberemo podatke o osebi, ki je registrirala avto (spol, starost, ...) in podatke oavtomobilu (poraba, medosna razdalja, max teža, model avta, ...)"
   ]
  },
  {
   "cell_type": "markdown",
   "metadata": {},
   "source": [
    "## Procesiranje podatkov"
   ]
  },
  {
   "cell_type": "markdown",
   "metadata": {},
   "source": [
    "### Branje"
   ]
  },
  {
   "cell_type": "markdown",
   "metadata": {},
   "source": [
    "Začeli smo z branjem podatkov iz datoteke.\n",
    "\n",
    "Podatki so ločeni z \";\", ampak pojavil se je problem, da je bil le-ta znak uporabljen tudi za ločevanje podatkov znotraj že ločenih podatkov.\n",
    "Zaradi tega, smo se odločili podatke ločevati z znakom \"\\\"\" in zavreči vsak 2. znak (ki je v tem primeru \";\").\n",
    "\n",
    "Vse kar se je prebralo shranimo v tabelo data, ki vsebuje slovarje, kjer so po atributih shranjeni podatki za posamezne vrstice.\n",
    "\n",
    "Ker je datoteka zelo velika (1 200 000 vsrtic) in ker to zasede zelo veliko pomnilnika in časa ko je shranjeno in ko se obdeluje, bomo za samo testiranje delovanja kode uporabljali datoteko sestavljeno iz prvih 10 000 vrstic originalne datoteke."
   ]
  },
  {
   "cell_type": "code",
   "execution_count": 14,
   "metadata": {
    "collapsed": false
   },
   "outputs": [
    {
     "name": "stdout",
     "output_type": "stream",
     "text": [
      "Nalaganje končano\n"
     ]
    }
   ],
   "source": [
    "import math\n",
    "import operator\n",
    "import numpy as np\n",
    "import matplotlib.pyplot as plt\n",
    "from datetime import datetime\n",
    "from csv import DictReader\n",
    "\n",
    "file = open('podatki_vozila_SLO_urejeno_okrajsano.txt', 'r', encoding='latin-1')\n",
    "data = []\n",
    "\n",
    "attributes = []\n",
    "\n",
    "for attr in file.readline().split(\";\"):\n",
    "    attributes.append(attr)\n",
    "    \n",
    "for i, line in enumerate(file):\n",
    "    dataLine = {}\n",
    "    dataLine[\"id\"] = i\n",
    "    \n",
    "    for l, item in enumerate(line.split(\"\\\"\")):\n",
    "        if(l%2 != 0):\n",
    "            dataLine[attributes[(int)((l-1)/2)]] = item\n",
    "    \n",
    "    data.append(dataLine)\n",
    "    \n",
    "    #if(i % 1000 == 0):\n",
    "    #    print(\"Nalaganje\", i/100+10)\n",
    "    \n",
    "print(\"Nalaganje končano\")"
   ]
  },
  {
   "cell_type": "code",
   "execution_count": 15,
   "metadata": {
    "collapsed": false,
    "scrolled": true
   },
   "outputs": [
    {
     "name": "stdout",
     "output_type": "stream",
     "text": [
      "{'id': 0, '\"B-Datum prve registracije vozila\"': '23.01.2004', '\"2A-Datum prve registracije vozila v SLO\"': '23.01.2004', '\"1K-Oznaka potrdila o skladnosti\"': 'SC', '\"Datum statusa vozila\"': '12.11.2009', '\"Status vozila (id)\"': '1', '\"Status vozila (opis)\"': 'registrirano', '\"Izvajalna enota prve registracije\"': 'Avto Celje D.D.', '\"4A-Registrsko obmocje tablice prve registracije\"': 'CELJE', '\"4A-Podvrsta tablice prve registracije\"': 'NT', '\"C-Starost uporabnika vozila\"': '61', '\"C-Ali je uporabnik pravna ali fizicna oseba\"': 'F', '\"C-Spol uporabnika (ce gre za fizicno osebo)\"': 'M', '\"C-Ali je uporabnik tudi lastnik vozila\"': 'DA', '\"C1.3-Upravna enota uporabnika vozila (oznaka)\"': '003', '\"C1.3-Upravna enota uporabnika vozila (opis)\"': 'CELJE', '\"C1.3-Obcina uporabnika vozila (oznaka)\"': '011', '\"C1.3-Obcina uporabnika vozila (opis)\"': 'Celje', '\"C2-Starost lastnika vozila\"': '61', '\"C2-Ali je lastnik pravna ali fizicna oseba\"': 'F', '\"C2-Spol lastnika (ce gre za fizicno osebo)\"': 'M', '\"D.1-Znamka\"': 'Å\\xa0KODA', '\"D.2-Tovar. oznaka\"': 'SCAZQX01-FM5FM52T037KALLE0GG', '\"D.3-Komerc. oznaka\"': 'FABIA / 1.2 /', '\"D.4.2-Drzava (opis)\"': 'Ä\\x8ceÅ¡ka republika', '\"D.4.2-Drzava (koda)\"': 'CZE', '\"D.5-Datum izdaje COC dokumenta oz. prve registracije\"': '23.01.2004', '\"E-VIN\"': 'TMBPY16Y833844672', '\"E.1-Identifikacijska koda\"': '', '\"F.1-Najvecja tehnicno dovoljena masa vozila\"': '1575', '\"F.2-Najvecja dovoljena masa vozila pri registraciji\"': '', '\"F.3-Najvecja dovoljena masa skupine vozil pri registraciji\"': '', '\"G-Masa vozila\"': '1082', '\"J-Kategorija in vrsta vozila (oznaka)\"': 'M1', '\"J-Kategorija in vrsta vozila (opis)\"': 'osebni avtomobil', '\"K-Homologacijska oznaka vozila\"': 'A2184419', '\"L-Stevilo osi\"': '2', '\"M-Medosje\"': '2462', '\"M.1-Zadnji previs\"': '', '\"N-Razporeditev najv. tehnicno dovoljene mase na osi\"': '', '\"N.1-Dovoljene osne obremenitve\"': '900/800', '\"O.1.1-Priklopnik\"': '', '\"O.1.2-Polpriklopnik\"': '', '\"O.1.3-Priklopnik s centralno osjo\"': '800,0', '\"O.2-Nezavirano priklopno vozilo\"': '', '\"O.3-Navpicna obremenitev vlecne naprave / sedla\"': '', '\"O.4-Tlak v napajalnem vodu zavornega sistema\"': '', '\"P.1.1-Delovna prostornina\"': '1198', '\"P.1.2-Nazivna moc\"': '47', '\"P.1.3-Vrsta goriva (opis)\"': 'Bencin', '\"P.1.3-Vrsta goriva (oznaka)\"': 'P', '\"P.1.4-Nazivna vrtilna frekvenca\"': '', '\"P.1.5-Oznaka motorja\"': 'AZQ', '\"P.2.1-Tip\"': '', '\"P.2.2-Nazivna trajna moc\"': '', '\"P.2.3-Delovna napetost\"': '', '\"P.2.4-Pogonske baterije\"': '', '\"P.2.5-Oznaka motorja\"': '', '\"Q-Razmerje moc/masa (samo za motorna kolesa)\"': '', '\"R-Barva vozila (oznaka)\"': 'S5D', '\"R-Barva vozila (opis)\"': 'navaden - MODRA - TEMNA', '\"S.1-Stevilo sedezev (vkljucno z vozniskim)\"': '5', '\"S.2-Stevilo stojisc\"': '0', '\"T-Najvisja hitrost\"': '', '\"U.1-V mirovanju\"': '', '\"U.2-Pri vrtilni frekvenci motorja\"': '', '\"U.3-V voznji\"': '', '\"V.1-CO\"': '', '\"V.10-Vrtilna frekvenca prostega teka, nizka\"': '', '\"V.10.1-Vsebina CO\"': '', '\"V.10.2-Temperatura olja\"': '', '\"V.11-Vrtilna frekvenca prostega teka, visoka\"': '', '\"V.11.1-Vsebina CO\"': '', '\"V.11.2-Vrednost Lambda\"': '', '\"V.11.3-Temperatura olja\"': '', '\"V.2-HC\"': '', '\"V.3-Nox\"': '', '\"V.4-HC + Nox\"': '', '\"V.5-Delci pri dizel motorjih\"': '', '\"V.6-Korigiran absorpcijski koeficient pri dizel motorjih\"': '', '\"V.6.1-Vrtilna frekvenca prostega teka\"': '', '\"V.6.2-Najvisja vrtilna frekvenca motorja\"': '', '\"V.6.3-Temperatura olja\"': '', '\"V.7-CO2\"': '', '\"V.8-Kombinirana poraba goriva\"': '6', '\"V.9-Podatek o okoljevarstveni kategoriji vozila\"': '-', '\"X-Oblika nadgradnje (oznaka)\"': 'AB', '\"X-Oblika nadgradnje (opis)\"': 'vozilo z dviÅ¾nimi vrati zadaj', '\"X.1-Dodatni opis nadgradnje\"': '-', '\"X.2-Homologacijska oznaka zascitne konstrukcije\"': '', '\"Y.1-Dolzina\"': '3960', '\"Y.2-Sirina\"': '1646', '\"Y.3-Visina\"': '1466', '\"Z.1-Dovoljene pnevmatike in platisca\"': '165/70R14 81T, 185/60R14 82T,  195/50R15 82T,  185/55R15 81T, 205/45R16 83V', '\"Z.2-Homologacijska oznaka vlecne naprave\"': 'e26*94/20*0008*00', '\"Z.2.1-D Ä\\x90 vrednost\"': '5,18', '\"Datum izdaje potrdila o skladnosti\"': '04.02.2010', '\"Okoljevarstvena oznaka\"': 'EURO 3', '\"Pogonska os z zracnim vzmetenjem ali priznanim ekvivalentom\"': '', '\"8B-Namen vozila\"': '', '\"Komerc. oznaka  do prvega /\"': 'FABIA ', '\"5A-Leto izdelave\"': '2003', '\"Prevozeni kilometri milje\"\\n': '105548'}\n"
     ]
    }
   ],
   "source": [
    "print(data[0])"
   ]
  },
  {
   "cell_type": "markdown",
   "metadata": {
    "collapsed": true
   },
   "source": [
    "### Nekaj prikazov podatkov\n",
    "\n",
    "Vrsta goriva"
   ]
  },
  {
   "cell_type": "code",
   "execution_count": 29,
   "metadata": {
    "collapsed": false
   },
   "outputs": [
    {
     "data": {
      "image/png": "[encoded data removed]",
      "text/plain": [
       "<matplotlib.figure.Figure at 0x29603bd9240>"
      ]
     },
     "metadata": {},
     "output_type": "display_data"
    }
   ],
   "source": [
    "letaIzdelave = [[], [], [], []]\n",
    "\n",
    "x=[[], [], [], []]\n",
    "y=[[], [], [], []]\n",
    "\n",
    "for podatek in data:\n",
    "    if podatek['\"P.1.3-Vrsta goriva (opis)\"'] == \"Bencin\":\n",
    "        letaIzdelave[0].append(podatek['\"5A-Leto izdelave\"'])\n",
    "        #y[0].append(podatek['\"B-Datum prve registracije vozila\"'])\n",
    "    \n",
    "    elif podatek['\"P.1.3-Vrsta goriva (opis)\"'] == \"Dizel\":\n",
    "        letaIzdelave[1].append(podatek['\"5A-Leto izdelave\"'])\n",
    "        #y[1].append(podatek['\"B-Datum prve registracije vozila\"'])\n",
    "        \n",
    "    elif podatek['\"P.1.3-Vrsta goriva (opis)\"'] == \"Bencin/Utek. naft. plin\":\n",
    "        letaIzdelave[2].append(podatek['\"5A-Leto izdelave\"'])\n",
    "        \n",
    "    elif podatek['\"P.1.3-Vrsta goriva (opis)\"'] == \"Ni goriva\":\n",
    "        letaIzdelave[3].append(podatek['\"5A-Leto izdelave\"'])\n",
    "        \n",
    "for i in 0, 1, 2, 3:\n",
    "    for leto in sorted(letaIzdelave[i]):\n",
    "        if(leto not in x[i]):\n",
    "            x[i].append(leto)\n",
    "            y[i].append(letaIzdelave[i].count(leto))\n",
    "            \n",
    "            \n",
    "            \n",
    "plt.figure(0)\n",
    "plt.plot(x[0], y[0], \"r-\", label=\"Bencin\")\n",
    "plt.plot(x[1], y[1], \"b-\", label=\"Dizel\")\n",
    "plt.plot(x[2], y[2], \"g-\", label=\"Plin\")\n",
    "plt.plot(x[3], y[3], \"c-\", label=\"Brez\")\n",
    "plt.legend(bbox_to_anchor=(1.05, 1), loc=2, borderaxespad=0.)\n",
    "plt.show()"
   ]
  },
  {
   "cell_type": "code",
   "execution_count": null,
   "metadata": {
    "collapsed": true
   },
   "outputs": [],
   "source": []
  }
 ],
 "metadata": {
  "anaconda-cloud": {},
  "kernelspec": {
   "display_name": "Python [default]",
   "language": "python",
   "name": "python3"
  },
  "language_info": {
   "codemirror_mode": {
    "name": "ipython",
    "version": 3
   },
   "file_extension": ".py",
   "mimetype": "text/x-python",
   "name": "python",
   "nbconvert_exporter": "python",
   "pygments_lexer": "ipython3",
   "version": "3.5.2"
  }
 },
 "nbformat": 4,
 "nbformat_minor": 2
}
