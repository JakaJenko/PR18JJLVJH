{
 "cells": [
  {
   "cell_type": "markdown",
   "metadata": {},
   "source": [
    "# Projekt - Podatkovno rudarjenj"
   ]
  },
  {
   "cell_type": "markdown",
   "metadata": {},
   "source": [
    "## Avtorji"
   ]
  },
  {
   "cell_type": "markdown",
   "metadata": {},
   "source": [
    "Jaka Jenko - 63160145<br/>\n",
    "Jan Hlačun - 63160127<br/>\n",
    "Lan Verdinek - 63160127<br/>"
   ]
  },
  {
   "cell_type": "markdown",
   "metadata": {},
   "source": [
    "## Profesor"
   ]
  },
  {
   "cell_type": "markdown",
   "metadata": {},
   "source": [
    "doc. dr. Tomaž Curk"
   ]
  },
  {
   "cell_type": "markdown",
   "metadata": {},
   "source": [
    "## Asistent"
   ]
  },
  {
   "cell_type": "markdown",
   "metadata": {},
   "source": [
    "Rok Gomišček"
   ]
  },
  {
   "cell_type": "markdown",
   "metadata": {},
   "source": [
    "## Opis"
   ]
  },
  {
   "cell_type": "markdown",
   "metadata": {},
   "source": [
    "Raziskovali bomo prodajo (oz. registracijo novih vozil). Pri teh podatkih se bomo osredotočili na podatke o motorju vozila; torej o porabi, prostornini, vrsti goriva in izpustih. Iz le-teh bomo pridobili podatke o tem, koliko motorji postajajo učinkovitejši. Prav tako lahko z kombiniranjem teh podatkov z spolom, starostjo in ali je vozilo registrirala pravna oseba ugotovimo, koliko posamezni podatki vplivajo na nakup vozila."
   ]
  },
  {
   "cell_type": "markdown",
   "metadata": {},
   "source": [
    "## Cilji"
   ]
  },
  {
   "cell_type": "markdown",
   "metadata": {},
   "source": [
    "Spreminjanje motorjev skozi čas. <br />\n",
    "Pridobiti podatke o učinkovitosti motorja. <br />\n",
    "Koliko je učinkovitost motorja pri nakupu avta pomembna za osebe ali podjetja. <br /> Napovedati kdaj bodo električni avtomobili dosegli 50% od vseh novih registracij."
   ]
  },
  {
   "cell_type": "markdown",
   "metadata": {},
   "source": [
    "## Podatki"
   ]
  },
  {
   "cell_type": "markdown",
   "metadata": {},
   "source": [
    "Podatke smo pridobili iz dveh virov: <br/>\n",
    "- https://podatki.gov.si - Prvič registrirana vozila po mesecih\n",
    "- https://www.gov.uk/government/statistical-data-sets/all-vehicles-veh01#table-veh0111 - UK podatki o vozilih\n",
    "\n",
    "Podatke je bilo na začetku potrebno ročno pregledati in jih malo urediti.\n",
    "\n",
    "Za prvotno testiranje kode smo uporabili le prvih 10 000 podatkov, saj smo tako pohitrili samo delovanje. Na koncu smo vse pognali čez vseh ~1 600 000 podatkov."
   ]
  },
  {
   "cell_type": "markdown",
   "metadata": {},
   "source": [
    "## Rezultati"
   ]
  },
  {
   "cell_type": "markdown",
   "metadata": {},
   "source": [
    "### Podatki o učinkovitosti motroja"
   ]
  },
  {
   "cell_type": "markdown",
   "metadata": {},
   "source": [
    "#### Kombinirana poraba goriva"
   ]
  },
  {
   "attachments": {},
   "cell_type": "markdown",
   "metadata": {},
   "source": [
    "<img src=\"slike/kombiniranaPoraba.png\">"
   ]
  },
  {
   "cell_type": "markdown",
   "metadata": {},
   "source": [
    "Iz grafa je razvidno, da so bili v začetku dizelski motorji veliko varčnejši kot bencinski ali kot motorji predelani na plin. Ta razlika se z časoma zmanjšuje. Če je bilo še pred nekaj leti veliko bolje kupiti motor na dizelsko gorivo, če smo gledali samo na porabo, le-to s časoma ne bo več tako."
   ]
  },
  {
   "cell_type": "markdown",
   "metadata": {},
   "source": [
    "#### Nazivna moč na prostornino motroja - (KW/l)"
   ]
  },
  {
   "attachments": {},
   "cell_type": "markdown",
   "metadata": {},
   "source": [
    "<img src=\"slike/KWNaLiter.png\">"
   ]
  },
  {
   "cell_type": "markdown",
   "metadata": {},
   "source": [
    "Ta graf prikazuje kako se je odvisnost nazivne moči glede na prostornino motorja spreminjala skozi leta. Vidimo lahko, da je bilo potrebno leta 1970, za enako moč motorja, kot leta 2010 imeti kar okoli 2x večjo prostornino motorja. Večja prostornina pa prispeva k večji teži in večji porabi."
   ]
  },
  {
   "cell_type": "markdown",
   "metadata": {},
   "source": [
    "### Pomembnost učinkovitosti motorja pri nakupu, glede na kupca (fizična oseba, podjetje)"
   ]
  },
  {
   "cell_type": "markdown",
   "metadata": {
    "collapsed": true
   },
   "source": [
    "#### Kombinirana poraba goriva"
   ]
  },
  {
   "attachments": {},
   "cell_type": "markdown",
   "metadata": {},
   "source": [
    "<img src=\"slike/porabaPrimerjava.png\">"
   ]
  },
  {
   "cell_type": "markdown",
   "metadata": {},
   "source": [
    "Pričakovali smo, da bodo pravne osebe (podjetja), veliko manj skrbela glede porabe goriva za službene avte. Čeprav se izkaže, da je to sicer nekoliko res, se razlika o porabi goriva med službenimi in zasebnimi vozili hitro zmanjšuje."
   ]
  },
  {
   "cell_type": "markdown",
   "metadata": {},
   "source": [
    "#### Naziva moč motorja"
   ]
  },
  {
   "attachments": {},
   "cell_type": "markdown",
   "metadata": {},
   "source": [
    "<img src=\"slike/mocPrimerjava.png\">"
   ]
  },
  {
   "cell_type": "markdown",
   "metadata": {},
   "source": [
    "Kot tudi pri zgornih podatkih, smo tudi tukaj pričakovali, da bodo pravne osebe (podjetja) kupovala vozila z večjo močjo (saj le-ta po navadi pokažejo nek status). Ampak podatki kažejo na to, da podjetja ne gledajo toliko na moč vozila, ampak verjetno na katere druge atribute. (Z pregledom ostalih podatkov bi lahko mogoče ugotovili, da so za podjetja bolj pomembna velikost ali znamka avtomobila)"
   ]
  },
  {
   "cell_type": "markdown",
   "metadata": {},
   "source": [
    "#### Tip goriva glede na kupca (fizična oseba, podjetje)"
   ]
  },
  {
   "attachments": {},
   "cell_type": "markdown",
   "metadata": {},
   "source": [
    "Fizične osebe\n",
    "<img src=\"slike/gorivaFiz.png\">"
   ]
  },
  {
   "attachments": {},
   "cell_type": "markdown",
   "metadata": {},
   "source": [
    "<br/>\n",
    "Podjetja\n",
    "<img src=\"slike/gorivaPra.png\">"
   ]
  },
  {
   "cell_type": "markdown",
   "metadata": {},
   "source": [
    "Glede na to, da pri prvih dveh primerjavah fizičnih in pravnih oseb ni bilo velike razlike, smo se odločili še pogledati samo \"priljubljenost\" posmeznega goriva med njimi. Tukaj pa je razlika več kot očitna. Podjetja veliko raje kopujejo vozila z dizelskimi motorji kot tista z bencinskimi."
   ]
  },
  {
   "cell_type": "markdown",
   "metadata": {},
   "source": [
    "### Električni avtomobili v Sloveniji in Združenem kraljestvu"
   ]
  },
  {
   "attachments": {},
   "cell_type": "markdown",
   "metadata": {},
   "source": [
    "<img src=\"slike/elektrikaSloUK.png\">"
   ]
  },
  {
   "cell_type": "markdown",
   "metadata": {},
   "source": [
    "Zgornji graf prikazuje število električnih avtomobilov v Sloveniji in v Združenem kraljestvu (UK). V UK je število električnih avtomobilov veliko večje kot v Sloveniji in to tako zelo, da na tem grafu skoraj ni opazno, da bi Slovenija imela kaj električnih avtomobilov. V UK število le-teh avtomobilov tudi narašča kar eksopentno, med tem ko v Sloveniji raste komaj opazno."
   ]
  },
  {
   "cell_type": "markdown",
   "metadata": {},
   "source": [
    "### Kdaj bo v Sloveniji 50% vseh avtomobilov na električni pogon?"
   ]
  },
  {
   "cell_type": "markdown",
   "metadata": {},
   "source": [
    "Na to vprašanje žal nismo mogli odgovoriti, zaradi pre majhne količine samih eletričnih avtomobilov v podatkih."
   ]
  },
  {
   "cell_type": "markdown",
   "metadata": {},
   "source": [
    "### Emisije CO2 - leto 2017"
   ]
  },
  {
   "attachments": {},
   "cell_type": "markdown",
   "metadata": {},
   "source": [
    "<img src=\"slike/gorivaCO2.png\">"
   ]
  },
  {
   "cell_type": "markdown",
   "metadata": {},
   "source": [
    "Za konec smo se še odločili pogledati same emisije plina CO2 pri različnih motorjih. Sprva so nas rezultati dokaj presentili, saj smo bili vsi mnenja, da bodo dizelski motorji od vseh treh najbolj izstopali, ampak niso. Po pregledah podatkih o izpustnih plinih motorjev, je postalo dokaj jasno, da gref povsem pravilen, saj je pri dizelskih motorjih največ emisije z plinom N2."
   ]
  },
  {
   "cell_type": "markdown",
   "metadata": {},
   "source": [
    "### Delež vozil z posameznimi gorivi"
   ]
  },
  {
   "cell_type": "markdown",
   "metadata": {},
   "source": [
    "<img src=\"slike/delezGoriv.png\">"
   ]
  },
  {
   "cell_type": "markdown",
   "metadata": {},
   "source": [
    "Delež vozil, ki so bila registrirana, z posameznimi gorivi se je v preteklosti zelo spreminjal. Glede na prihahajoče regulacije proti dizelskim vozilom, lahko sedaj pričakujemo, da se bo število vozil z dezelskim motorjem zmanjšalo, število tisih z bencinskim pa povečalo. Ne smemo pa pozabiti na električna vozila, saj kako smo videli pri podatkih iz Združenega kraljestva, tam število le-teh zelo hitro narašča. In je pričakovati, da se bo enako zgodilo tudi v Sloveniji."
   ]
  },
  {
   "cell_type": "markdown",
   "metadata": {},
   "source": [
    "## Zaključek"
   ]
  },
  {
   "cell_type": "markdown",
   "metadata": {},
   "source": [
    "Zahvaliti se moramo profesorju kot tudi asistentu, ki sta sam podatala znanje, ki je še vilo bolj obširno, kot kar je zajeto v tej nalogi."
   ]
  },
  {
   "cell_type": "code",
   "execution_count": null,
   "metadata": {
    "collapsed": true
   },
   "outputs": [],
   "source": []
  }
 ],
 "metadata": {
  "anaconda-cloud": {},
  "kernelspec": {
   "display_name": "Python 3",
   "language": "python",
   "name": "python3"
  },
  "language_info": {
   "codemirror_mode": {
    "name": "ipython",
    "version": 3
   },
   "file_extension": ".py",
   "mimetype": "text/x-python",
   "name": "python",
   "nbconvert_exporter": "python",
   "pygments_lexer": "ipython3",
   "version": "3.6.1"
  }
 },
 "nbformat": 4,
 "nbformat_minor": 1
}
